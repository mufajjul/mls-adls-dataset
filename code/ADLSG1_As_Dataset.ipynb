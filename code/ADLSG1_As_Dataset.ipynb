{
 "cells": [
  {
   "cell_type": "markdown",
   "metadata": {},
   "source": [
    "## In this notebook we show how to register Azure Data Lake Gen1 as a datastore with Azure ML, register a dataset from the data store and get access to it with Azure ML."
   ]
  },
  {
   "cell_type": "markdown",
   "metadata": {},
   "source": [
    "### Import the necessary libraries"
   ]
  },
  {
   "cell_type": "code",
   "execution_count": null,
   "metadata": {},
   "outputs": [],
   "source": [
    "from azureml.core.workspace import Workspace\n",
    "from azureml.core.datastore import Datastore\n",
    "from azureml.core.dataset import Dataset\n",
    "from azureml.data.datapath import DataPath\n",
    "from azureml.data.data_reference import DataReference"
   ]
  },
  {
   "cell_type": "markdown",
   "metadata": {},
   "source": [
    "### Provide a name for the data store to use within the notebook and connect to the Azure ML workspace"
   ]
  },
  {
   "cell_type": "code",
   "execution_count": null,
   "metadata": {},
   "outputs": [],
   "source": [
    "datastore_name = \"adlsdatastore2\"\n",
    "workspace = Workspace.from_config()"
   ]
  },
  {
   "cell_type": "markdown",
   "metadata": {},
   "source": [
    "### Register the ADLS Gen1 as a datastore with the Azure ML workspace"
   ]
  },
  {
   "cell_type": "code",
   "execution_count": null,
   "metadata": {},
   "outputs": [],
   "source": [
    "Datastore.register_azure_data_lake(workspace, \n",
    "                         datastore_name, \n",
    "                         \"<ADLS Gen1 Account name>\", \n",
    "                         \"<AAD Tenant Id>\", \n",
    "                         \"<Service Principal Application ID>\", \n",
    "                         \"<Service Principal Secret>\", \n",
    "                         resource_url=None, \n",
    "                         authority_url=None, \n",
    "                         subscription_id=None, \n",
    "                         resource_group=None, \n",
    "                         overwrite=False) "
   ]
  },
  {
   "cell_type": "markdown",
   "metadata": {},
   "source": [
    "### Create an in memory data set (not registered) from the file in the data store."
   ]
  },
  {
   "cell_type": "code",
   "execution_count": null,
   "metadata": {},
   "outputs": [],
   "source": [
    "dstore = Datastore(workspace, datastore_name)\n",
    "filepath='<file path in ADLS Gen1>'\n",
    "dset = Dataset.from_delimited_files(DataReference(dstore, path_on_datastore=filepath, mode='mount'))"
   ]
  },
  {
   "cell_type": "markdown",
   "metadata": {},
   "source": [
    "### Inspect the data"
   ]
  },
  {
   "cell_type": "code",
   "execution_count": null,
   "metadata": {},
   "outputs": [],
   "source": [
    "dset.head(5)"
   ]
  },
  {
   "cell_type": "markdown",
   "metadata": {},
   "source": [
    "### Register the dataset with the AML workspace"
   ]
  },
  {
   "cell_type": "code",
   "execution_count": null,
   "metadata": {},
   "outputs": [],
   "source": [
    "dset = dset.register(workspace, '<Chosen name for the dataset>')"
   ]
  },
  {
   "cell_type": "markdown",
   "metadata": {},
   "source": [
    "### Some datastore operaions"
   ]
  },
  {
   "cell_type": "code",
   "execution_count": null,
   "metadata": {},
   "outputs": [],
   "source": [
    "# retrieve an existing datastore in the workspace by name\n",
    "dstore = Datastore(workspace, datastore_name)\n",
    "#dstore = Datastore.get(workspace, datastore_name)\n",
    "print(dstore)\n",
    "\n",
    "#list all datastores registered in current workspace\n",
    "datastores = workspace.datastores\n",
    "for name, ds in datastores.items():\n",
    "    print(name, ds.datastore_type)"
   ]
  },
  {
   "cell_type": "markdown",
   "metadata": {},
   "source": [
    "### Some dataset operations"
   ]
  },
  {
   "cell_type": "code",
   "execution_count": null,
   "metadata": {},
   "outputs": [],
   "source": [
    "#Print a list of all the datasets registered with the workspace\n",
    "print(Dataset.list(workspace))\n",
    "\n",
    "# Get dataset by name\n",
    "dataset = Dataset.get(workspace, 'CricketChirps')\n",
    "\n",
    "# Load data into pandas DataFrame\n",
    "dataset.to_pandas_dataframe()"
   ]
  }
 ],
 "metadata": {
  "kernelspec": {
   "display_name": "Python 3",
   "language": "python",
   "name": "python3"
  },
  "language_info": {
   "codemirror_mode": {
    "name": "ipython",
    "version": 3
   },
   "file_extension": ".py",
   "mimetype": "text/x-python",
   "name": "python",
   "nbconvert_exporter": "python",
   "pygments_lexer": "ipython3",
   "version": "3.6.5"
  }
 },
 "nbformat": 4,
 "nbformat_minor": 2
}
