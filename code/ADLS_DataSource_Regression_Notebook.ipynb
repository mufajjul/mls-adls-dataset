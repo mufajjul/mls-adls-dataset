{
 "cells": [
  {
   "cell_type": "markdown",
   "metadata": {},
   "source": [
    "## Example Linear Regression\n",
    "This is a simple Linear Regression example to predice the temperature from the rate of cricket chirps based on The Song of Insects, by Dr. G. W. Pierce, Harvard College Press."
   ]
  },
  {
   "cell_type": "markdown",
   "metadata": {},
   "source": [
    "### Import the Azure ML library and check the SDK version"
   ]
  },
  {
   "cell_type": "code",
   "execution_count": null,
   "metadata": {},
   "outputs": [],
   "source": [
    "import azureml\n",
    "from azureml.core import Workspace, Run, Experiment\n",
    "\n",
    "# check core SDK version number\n",
    "print(\"Azure ML SDK Version: \", azureml.core.VERSION)"
   ]
  },
  {
   "cell_type": "markdown",
   "metadata": {},
   "source": [
    "### Connect to workspace\n",
    "\n",
    "Create a workspace object from the existing workspace. `Workspace.from_config()` reads the file **config.json** and loads the details into an object named `ws`."
   ]
  },
  {
   "cell_type": "code",
   "execution_count": null,
   "metadata": {},
   "outputs": [],
   "source": [
    "ws = Workspace.from_config()"
   ]
  },
  {
   "cell_type": "markdown",
   "metadata": {},
   "source": [
    "### Create a Run Configuration with Azure ML Compute "
   ]
  },
  {
   "cell_type": "code",
   "execution_count": null,
   "metadata": {},
   "outputs": [],
   "source": [
    "from azureml.core.compute import ComputeTarget, AmlCompute\n",
    "from azureml.core.runconfig import RunConfiguration \n",
    "# Create a new runconfig object \n",
    "run_AML_compute = RunConfiguration()\n",
    "# Signal that you want to use AmlCompute to execute the training script \n",
    "run_AML_compute.target = \"amlcompute\"\n",
    "# AmlCompute is created in the same region as your workspace \n",
    "# Set the VM size for AmlCompute from the list of supported_vmsizes \n",
    "run_AML_compute.amlcompute.vm_size = 'STANDARD_D2_V2'\n"
   ]
  },
  {
   "cell_type": "markdown",
   "metadata": {},
   "source": [
    "### Define the necessary dependencies"
   ]
  },
  {
   "cell_type": "code",
   "execution_count": null,
   "metadata": {},
   "outputs": [],
   "source": [
    "from azureml.core.conda_dependencies import CondaDependencies\n",
    "dependencies = CondaDependencies()\n",
    "dependencies.add_pip_package(\"scikit-learn\")\n",
    "dependencies.add_pip_package(\"pandas\")\n",
    "#We need to add azureml-dataprep package\n",
    "dependencies.add_pip_package(\"azureml-dataprep\")\n",
    "run_AML_compute.environment.python.conda_dependencies = dependencies"
   ]
  },
  {
   "cell_type": "markdown",
   "metadata": {},
   "source": [
    "### Create a script folder"
   ]
  },
  {
   "cell_type": "code",
   "execution_count": null,
   "metadata": {},
   "outputs": [],
   "source": [
    "import os\n",
    "script_folder='./MyScriptFolder'\n",
    "os.makedirs(script_folder, exist_ok=True)"
   ]
  },
  {
   "cell_type": "markdown",
   "metadata": {},
   "source": [
    "### Create the training script and write it to script folder\n",
    "\n",
    "We need to enter the workspace name, subscription Id and resource group name before running the cell"
   ]
  },
  {
   "cell_type": "code",
   "execution_count": null,
   "metadata": {},
   "outputs": [],
   "source": [
    "%%writefile $script_folder/train.py\n",
    "import numpy as np\n",
    "import pandas as pd\n",
    "from sklearn.linear_model import LinearRegression\n",
    "from sklearn.model_selection import train_test_split\n",
    "from sklearn.externals import joblib\n",
    "from azureml.core import Run\n",
    "from sklearn.metrics import mean_squared_error\n",
    "from math import sqrt\n",
    "from azureml.core.dataset import Dataset\n",
    "from azureml.core import Workspace\n",
    "import os\n",
    "\n",
    "#We need the workspace to retrieve the dataset, default authentication is interactive\n",
    "ws = Workspace.get(name=\"<Azure ML workspace name>\", subscription_id=\"<Azure subscription ID>\", resource_group=\"Resource Group Name for the Azure ML workspace\")\n",
    "#Get the data set that is already registered with the workspace\n",
    "data_set =Dataset.get(ws,'CricketChirps')\n",
    "#Use the dataset\n",
    "dataset=data_set.to_pandas_dataframe()\n",
    "X = dataset.iloc[:, :-1].values  #  independent variable \n",
    "y = dataset.iloc[:, 1].values    #  dependent variable \n",
    "X_train, X_test, y_train, y_test = train_test_split(X, y, test_size = 1/3, random_state = 0)\n",
    "# get hold of the current run\n",
    "run = Run.get_context()\n",
    "print('Train a linear regression model')\n",
    "regressor = LinearRegression()    # This object is the regressor, that does the regression\n",
    "regressor.fit(X_train, y_train)   # Provide training data so the machine can learn to predict using a learned model.\n",
    "\n",
    "print('Predict the test set')\n",
    "y_pred = regressor.predict(X_test)\n",
    "print(y_pred)\n",
    "\n",
    "#Calculate and log the root mean square error\n",
    "rmse = sqrt(mean_squared_error(y_test, y_pred))\n",
    "run.log('RMSE', rmse)\n",
    "\n",
    "#Calculate and log Mean Absolute Square Error and Model Accuracy\n",
    "sum_actuals = sum_errors = 0\n",
    "for actual_val, predict_val in zip(y_test, y_pred):\n",
    "    abs_error = actual_val - predict_val\n",
    "    if abs_error < 0:\n",
    "        abs_error = abs_error * -1\n",
    "    \n",
    "    sum_errors = sum_errors + abs_error\n",
    "    sum_actuals = sum_actuals + actual_val   \n",
    "mean_abs_percent_error = sum_errors / sum_actuals\n",
    "run.log('MAPE', mean_abs_percent_error)\n",
    "accuracy = 1 - mean_abs_percent_error\n",
    "run.log('Model Accuracy', accuracy)\n",
    "\n",
    "os.makedirs('outputs', exist_ok=True)\n",
    "# note file saved in the outputs folder is automatically uploaded into experiment record\n",
    "joblib.dump(value=regressor, filename='outputs/model.pkl')"
   ]
  },
  {
   "cell_type": "markdown",
   "metadata": {},
   "source": [
    "### Create experiment\n",
    "\n",
    "Create an experiment to track the runs in your workspace. A workspace can have muliple experiments. "
   ]
  },
  {
   "cell_type": "code",
   "execution_count": null,
   "metadata": {},
   "outputs": [],
   "source": [
    "experiment_name = 'myExperiment'\n",
    "exp = Experiment(workspace=ws, name=experiment_name)"
   ]
  },
  {
   "cell_type": "markdown",
   "metadata": {},
   "source": [
    "### Submit the experiment for training on AML Compute using the run configuration we defined earlier"
   ]
  },
  {
   "cell_type": "code",
   "execution_count": null,
   "metadata": {
    "scrolled": false
   },
   "outputs": [],
   "source": [
    "from azureml.core import ScriptRunConfig\n",
    "src = ScriptRunConfig(source_directory = script_folder, script = 'train.py', run_config = run_AML_compute) \n",
    "run = exp.submit(src) \n",
    "run.wait_for_completion(show_output = True)\n"
   ]
  },
  {
   "cell_type": "code",
   "execution_count": null,
   "metadata": {},
   "outputs": [],
   "source": []
  }
 ],
 "metadata": {
  "kernelspec": {
   "display_name": "Python 3",
   "language": "python",
   "name": "python3"
  },
  "language_info": {
   "codemirror_mode": {
    "name": "ipython",
    "version": 3
   },
   "file_extension": ".py",
   "mimetype": "text/x-python",
   "name": "python",
   "nbconvert_exporter": "python",
   "pygments_lexer": "ipython3",
   "version": "3.6.5"
  }
 },
 "nbformat": 4,
 "nbformat_minor": 2
}
